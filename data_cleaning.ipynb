{
 "cells": [
  {
   "cell_type": "code",
   "execution_count": 45,
   "metadata": {},
   "outputs": [],
   "source": [
    "import pandas as pd\n",
    "import matplotlib.pyplot as plt\n",
    "import numpy as np"
   ]
  },
  {
   "cell_type": "code",
   "execution_count": 47,
   "metadata": {
    "scrolled": true
   },
   "outputs": [],
   "source": [
    "data=pd.read_csv('./crime.csv')"
   ]
  },
  {
   "cell_type": "code",
   "execution_count": 30,
   "metadata": {},
   "outputs": [],
   "source": [
    "data=data[['ID','Case Number','Date','Primary Type','Arrest','Domestic','Location Description']]"
   ]
  },
  {
   "cell_type": "code",
   "execution_count": 35,
   "metadata": {},
   "outputs": [],
   "source": [
    "condition = data['Primary Type'].isin(['BATTERY', 'THEFT'])\n",
    "\n",
    "# Use np.where to apply the condition\n",
    "data['Primary Type'] = np.where(condition, data['Primary Type'], 'OTHERS')"
   ]
  },
  {
   "cell_type": "code",
   "execution_count": 38,
   "metadata": {},
   "outputs": [],
   "source": [
    "total_cases = data.groupby(['Date'])['Case Number'].nunique().reset_index(name='total_cases')\n",
    "arrest_cases = data[data['Arrest']].groupby(['Date'])['Case Number'].nunique().reset_index(name='arrest_cases')\n",
    "domestic_cases = data[data['Domestic']].groupby(['Date'])['Case Number'].nunique().reset_index(name='domestic_cases')\n",
    "battery_cases = data[data['Primary Type'] == 'BATTERY'].groupby(['Date'])['Case Number'].nunique().reset_index(name='battery_cases')\n",
    "theft_cases = data[data['Primary Type'] == 'THEFT'].groupby(['Date'])['Case Number'].nunique().reset_index(name='theft_cases')\n"
   ]
  },
  {
   "cell_type": "code",
   "execution_count": 40,
   "metadata": {},
   "outputs": [],
   "source": [
    "agg_data = pd.merge(total_cases, arrest_cases, on=['Date'], how='left')\n",
    "agg_data = pd.merge(agg_data, domestic_cases, on=['Date'], how='left')\n",
    "agg_data = pd.merge(agg_data, battery_cases, on=['Date'], how='left')\n",
    "agg_data = pd.merge(agg_data, theft_cases, on=['Date'], how='left')\n",
    "\n",
    "agg_data.fillna(0, inplace=True)"
   ]
  },
  {
   "cell_type": "code",
   "execution_count": 43,
   "metadata": {},
   "outputs": [
    {
     "data": {
      "text/html": [
       "<div>\n",
       "<style scoped>\n",
       "    .dataframe tbody tr th:only-of-type {\n",
       "        vertical-align: middle;\n",
       "    }\n",
       "\n",
       "    .dataframe tbody tr th {\n",
       "        vertical-align: top;\n",
       "    }\n",
       "\n",
       "    .dataframe thead th {\n",
       "        text-align: right;\n",
       "    }\n",
       "</style>\n",
       "<table border=\"1\" class=\"dataframe\">\n",
       "  <thead>\n",
       "    <tr style=\"text-align: right;\">\n",
       "      <th></th>\n",
       "      <th>Date</th>\n",
       "      <th>total_cases</th>\n",
       "      <th>arrest_cases</th>\n",
       "      <th>domestic_cases</th>\n",
       "      <th>battery_cases</th>\n",
       "      <th>theft_cases</th>\n",
       "    </tr>\n",
       "  </thead>\n",
       "  <tbody>\n",
       "    <tr>\n",
       "      <th>0</th>\n",
       "      <td>2001-01</td>\n",
       "      <td>38119</td>\n",
       "      <td>12238</td>\n",
       "      <td>4719</td>\n",
       "      <td>6527</td>\n",
       "      <td>7867</td>\n",
       "    </tr>\n",
       "    <tr>\n",
       "      <th>1</th>\n",
       "      <td>2001-02</td>\n",
       "      <td>33784</td>\n",
       "      <td>10964</td>\n",
       "      <td>4243</td>\n",
       "      <td>6041</td>\n",
       "      <td>6669</td>\n",
       "    </tr>\n",
       "    <tr>\n",
       "      <th>2</th>\n",
       "      <td>2001-03</td>\n",
       "      <td>40565</td>\n",
       "      <td>12492</td>\n",
       "      <td>5080</td>\n",
       "      <td>7662</td>\n",
       "      <td>7766</td>\n",
       "    </tr>\n",
       "    <tr>\n",
       "      <th>3</th>\n",
       "      <td>2001-04</td>\n",
       "      <td>40088</td>\n",
       "      <td>11869</td>\n",
       "      <td>5149</td>\n",
       "      <td>8328</td>\n",
       "      <td>7702</td>\n",
       "    </tr>\n",
       "    <tr>\n",
       "      <th>4</th>\n",
       "      <td>2001-05</td>\n",
       "      <td>41836</td>\n",
       "      <td>12059</td>\n",
       "      <td>5418</td>\n",
       "      <td>8887</td>\n",
       "      <td>8420</td>\n",
       "    </tr>\n",
       "    <tr>\n",
       "      <th>...</th>\n",
       "      <td>...</td>\n",
       "      <td>...</td>\n",
       "      <td>...</td>\n",
       "      <td>...</td>\n",
       "      <td>...</td>\n",
       "      <td>...</td>\n",
       "    </tr>\n",
       "    <tr>\n",
       "      <th>263</th>\n",
       "      <td>2022-12</td>\n",
       "      <td>19746</td>\n",
       "      <td>1996</td>\n",
       "      <td>3212</td>\n",
       "      <td>3007</td>\n",
       "      <td>4398</td>\n",
       "    </tr>\n",
       "    <tr>\n",
       "      <th>264</th>\n",
       "      <td>2023-01</td>\n",
       "      <td>20807</td>\n",
       "      <td>2471</td>\n",
       "      <td>3506</td>\n",
       "      <td>3164</td>\n",
       "      <td>4266</td>\n",
       "    </tr>\n",
       "    <tr>\n",
       "      <th>265</th>\n",
       "      <td>2023-02</td>\n",
       "      <td>18146</td>\n",
       "      <td>2339</td>\n",
       "      <td>3096</td>\n",
       "      <td>3040</td>\n",
       "      <td>3775</td>\n",
       "    </tr>\n",
       "    <tr>\n",
       "      <th>266</th>\n",
       "      <td>2023-03</td>\n",
       "      <td>20191</td>\n",
       "      <td>2405</td>\n",
       "      <td>3387</td>\n",
       "      <td>3386</td>\n",
       "      <td>4372</td>\n",
       "    </tr>\n",
       "    <tr>\n",
       "      <th>267</th>\n",
       "      <td>2023-04</td>\n",
       "      <td>13992</td>\n",
       "      <td>1516</td>\n",
       "      <td>2496</td>\n",
       "      <td>2474</td>\n",
       "      <td>2845</td>\n",
       "    </tr>\n",
       "  </tbody>\n",
       "</table>\n",
       "<p>268 rows × 6 columns</p>\n",
       "</div>"
      ],
      "text/plain": [
       "        Date  total_cases  arrest_cases  domestic_cases  battery_cases  \\\n",
       "0    2001-01        38119         12238            4719           6527   \n",
       "1    2001-02        33784         10964            4243           6041   \n",
       "2    2001-03        40565         12492            5080           7662   \n",
       "3    2001-04        40088         11869            5149           8328   \n",
       "4    2001-05        41836         12059            5418           8887   \n",
       "..       ...          ...           ...             ...            ...   \n",
       "263  2022-12        19746          1996            3212           3007   \n",
       "264  2023-01        20807          2471            3506           3164   \n",
       "265  2023-02        18146          2339            3096           3040   \n",
       "266  2023-03        20191          2405            3387           3386   \n",
       "267  2023-04        13992          1516            2496           2474   \n",
       "\n",
       "     theft_cases  \n",
       "0           7867  \n",
       "1           6669  \n",
       "2           7766  \n",
       "3           7702  \n",
       "4           8420  \n",
       "..           ...  \n",
       "263         4398  \n",
       "264         4266  \n",
       "265         3775  \n",
       "266         4372  \n",
       "267         2845  \n",
       "\n",
       "[268 rows x 6 columns]"
      ]
     },
     "execution_count": 43,
     "metadata": {},
     "output_type": "execute_result"
    }
   ],
   "source": [
    "agg_data"
   ]
  },
  {
   "cell_type": "code",
   "execution_count": 25,
   "metadata": {},
   "outputs": [],
   "source": [
    "agg_data.to_csv('crime_data_type.csv',index=False)"
   ]
  }
 ],
 "metadata": {
  "kernelspec": {
   "display_name": "Python 3",
   "language": "python",
   "name": "python3"
  },
  "language_info": {
   "codemirror_mode": {
    "name": "ipython",
    "version": 3
   },
   "file_extension": ".py",
   "mimetype": "text/x-python",
   "name": "python",
   "nbconvert_exporter": "python",
   "pygments_lexer": "ipython3",
   "version": "3.7.6"
  }
 },
 "nbformat": 4,
 "nbformat_minor": 4
}
